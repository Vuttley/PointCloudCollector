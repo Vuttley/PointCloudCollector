{
 "cells": [
  {
   "cell_type": "code",
   "execution_count": null,
   "id": "b6ca4cfd-c445-496a-97b0-0309837f0fda",
   "metadata": {
    "id": "b6ca4cfd-c445-496a-97b0-0309837f0fda"
   },
   "outputs": [],
   "source": [
    "import pandas as pd\n",
    "import numpy as np\n",
    "from math import cos, sin, radians\n",
    "import matplotlib.pyplot as plt\n",
    "from mpl_toolkits.mplot3d import Axes3D\n",
    "import open3d as o3d"
   ]
  },
  {
   "cell_type": "code",
   "execution_count": null,
   "id": "2d2c824d-b74f-4940-89a9-92f867505a5a",
   "metadata": {
    "id": "2d2c824d-b74f-4940-89a9-92f867505a5a"
   },
   "outputs": [],
   "source": [
    "df_pontos =  pd.read_csv('dados_combinados.csv')"
   ]
  },
  {
   "cell_type": "code",
   "execution_count": null,
   "id": "60287e1d-cbab-47ea-8bec-399f5c13368c",
   "metadata": {
    "id": "60287e1d-cbab-47ea-8bec-399f5c13368c",
    "outputId": "f9c4db35-48df-422d-8ffb-79a4e05085f7"
   },
   "outputs": [
    {
     "data": {
      "text/html": [
       "<div>\n",
       "<style scoped>\n",
       "    .dataframe tbody tr th:only-of-type {\n",
       "        vertical-align: middle;\n",
       "    }\n",
       "\n",
       "    .dataframe tbody tr th {\n",
       "        vertical-align: top;\n",
       "    }\n",
       "\n",
       "    .dataframe thead th {\n",
       "        text-align: right;\n",
       "    }\n",
       "</style>\n",
       "<table border=\"1\" class=\"dataframe\">\n",
       "  <thead>\n",
       "    <tr style=\"text-align: right;\">\n",
       "      <th></th>\n",
       "      <th>distance</th>\n",
       "      <th>intensity</th>\n",
       "      <th>angle</th>\n",
       "      <th>Row</th>\n",
       "      <th>Pitch</th>\n",
       "      <th>Yaw</th>\n",
       "      <th>Angulo Esperado</th>\n",
       "    </tr>\n",
       "  </thead>\n",
       "  <tbody>\n",
       "    <tr>\n",
       "      <th>0</th>\n",
       "      <td>1.195</td>\n",
       "      <td>0.898039</td>\n",
       "      <td>0.000872</td>\n",
       "      <td>-51.212769</td>\n",
       "      <td>1.159058</td>\n",
       "      <td>-89.489136</td>\n",
       "      <td>-63.0</td>\n",
       "    </tr>\n",
       "    <tr>\n",
       "      <th>1</th>\n",
       "      <td>1.034</td>\n",
       "      <td>0.733333</td>\n",
       "      <td>0.001222</td>\n",
       "      <td>-51.212769</td>\n",
       "      <td>1.159058</td>\n",
       "      <td>-89.489136</td>\n",
       "      <td>-63.0</td>\n",
       "    </tr>\n",
       "    <tr>\n",
       "      <th>2</th>\n",
       "      <td>1.194</td>\n",
       "      <td>0.905882</td>\n",
       "      <td>0.003665</td>\n",
       "      <td>-51.212769</td>\n",
       "      <td>1.159058</td>\n",
       "      <td>-89.489136</td>\n",
       "      <td>-63.0</td>\n",
       "    </tr>\n",
       "    <tr>\n",
       "      <th>3</th>\n",
       "      <td>1.034</td>\n",
       "      <td>0.745098</td>\n",
       "      <td>0.005411</td>\n",
       "      <td>-51.212769</td>\n",
       "      <td>1.159058</td>\n",
       "      <td>-89.489136</td>\n",
       "      <td>-63.0</td>\n",
       "    </tr>\n",
       "    <tr>\n",
       "      <th>4</th>\n",
       "      <td>1.194</td>\n",
       "      <td>0.909804</td>\n",
       "      <td>0.006458</td>\n",
       "      <td>-51.212769</td>\n",
       "      <td>1.159058</td>\n",
       "      <td>-89.489136</td>\n",
       "      <td>-63.0</td>\n",
       "    </tr>\n",
       "  </tbody>\n",
       "</table>\n",
       "</div>"
      ],
      "text/plain": [
       "   distance  intensity     angle        Row     Pitch        Yaw  \\\n",
       "0     1.195   0.898039  0.000872 -51.212769  1.159058 -89.489136   \n",
       "1     1.034   0.733333  0.001222 -51.212769  1.159058 -89.489136   \n",
       "2     1.194   0.905882  0.003665 -51.212769  1.159058 -89.489136   \n",
       "3     1.034   0.745098  0.005411 -51.212769  1.159058 -89.489136   \n",
       "4     1.194   0.909804  0.006458 -51.212769  1.159058 -89.489136   \n",
       "\n",
       "   Angulo Esperado  \n",
       "0            -63.0  \n",
       "1            -63.0  \n",
       "2            -63.0  \n",
       "3            -63.0  \n",
       "4            -63.0  "
      ]
     },
     "execution_count": 8,
     "metadata": {},
     "output_type": "execute_result"
    }
   ],
   "source": [
    "df_pontos.head()"
   ]
  },
  {
   "cell_type": "code",
   "execution_count": null,
   "id": "d7fff7ec-cc78-4311-9007-5c77b57fd54f",
   "metadata": {
    "id": "d7fff7ec-cc78-4311-9007-5c77b57fd54f",
    "outputId": "52bffaa8-32e1-4f1a-8059-5cd3438f84fa"
   },
   "outputs": [
    {
     "data": {
      "text/html": [
       "<div>\n",
       "<style scoped>\n",
       "    .dataframe tbody tr th:only-of-type {\n",
       "        vertical-align: middle;\n",
       "    }\n",
       "\n",
       "    .dataframe tbody tr th {\n",
       "        vertical-align: top;\n",
       "    }\n",
       "\n",
       "    .dataframe thead th {\n",
       "        text-align: right;\n",
       "    }\n",
       "</style>\n",
       "<table border=\"1\" class=\"dataframe\">\n",
       "  <thead>\n",
       "    <tr style=\"text-align: right;\">\n",
       "      <th></th>\n",
       "      <th>distance</th>\n",
       "      <th>intensity</th>\n",
       "      <th>angle</th>\n",
       "      <th>Row</th>\n",
       "      <th>Pitch</th>\n",
       "      <th>Yaw</th>\n",
       "      <th>Angulo Esperado</th>\n",
       "    </tr>\n",
       "  </thead>\n",
       "  <tbody>\n",
       "    <tr>\n",
       "      <th>802374</th>\n",
       "      <td>1.172</td>\n",
       "      <td>0.886275</td>\n",
       "      <td>6.269222</td>\n",
       "      <td>56.508179</td>\n",
       "      <td>1.356812</td>\n",
       "      <td>-71.779175</td>\n",
       "      <td>54.0</td>\n",
       "    </tr>\n",
       "    <tr>\n",
       "      <th>802375</th>\n",
       "      <td>1.172</td>\n",
       "      <td>0.886275</td>\n",
       "      <td>6.272015</td>\n",
       "      <td>56.508179</td>\n",
       "      <td>1.356812</td>\n",
       "      <td>-71.779175</td>\n",
       "      <td>54.0</td>\n",
       "    </tr>\n",
       "    <tr>\n",
       "      <th>802376</th>\n",
       "      <td>1.171</td>\n",
       "      <td>0.882353</td>\n",
       "      <td>6.274808</td>\n",
       "      <td>56.508179</td>\n",
       "      <td>1.356812</td>\n",
       "      <td>-71.779175</td>\n",
       "      <td>54.0</td>\n",
       "    </tr>\n",
       "    <tr>\n",
       "      <th>802377</th>\n",
       "      <td>1.170</td>\n",
       "      <td>0.882353</td>\n",
       "      <td>6.277600</td>\n",
       "      <td>56.508179</td>\n",
       "      <td>1.356812</td>\n",
       "      <td>-71.779175</td>\n",
       "      <td>54.0</td>\n",
       "    </tr>\n",
       "    <tr>\n",
       "      <th>802378</th>\n",
       "      <td>1.170</td>\n",
       "      <td>0.886275</td>\n",
       "      <td>6.280393</td>\n",
       "      <td>56.508179</td>\n",
       "      <td>1.356812</td>\n",
       "      <td>-71.779175</td>\n",
       "      <td>54.0</td>\n",
       "    </tr>\n",
       "  </tbody>\n",
       "</table>\n",
       "</div>"
      ],
      "text/plain": [
       "        distance  intensity     angle        Row     Pitch        Yaw  \\\n",
       "802374     1.172   0.886275  6.269222  56.508179  1.356812 -71.779175   \n",
       "802375     1.172   0.886275  6.272015  56.508179  1.356812 -71.779175   \n",
       "802376     1.171   0.882353  6.274808  56.508179  1.356812 -71.779175   \n",
       "802377     1.170   0.882353  6.277600  56.508179  1.356812 -71.779175   \n",
       "802378     1.170   0.886275  6.280393  56.508179  1.356812 -71.779175   \n",
       "\n",
       "        Angulo Esperado  \n",
       "802374             54.0  \n",
       "802375             54.0  \n",
       "802376             54.0  \n",
       "802377             54.0  \n",
       "802378             54.0  "
      ]
     },
     "execution_count": 10,
     "metadata": {},
     "output_type": "execute_result"
    }
   ],
   "source": [
    "df_pontos.tail()"
   ]
  },
  {
   "cell_type": "markdown",
   "id": "09529eae-83e7-409f-aacd-7d6c927e9257",
   "metadata": {
    "id": "09529eae-83e7-409f-aacd-7d6c927e9257"
   },
   "source": [
    "802378 pontos"
   ]
  },
  {
   "cell_type": "markdown",
   "id": "6d5a478b-571c-45e8-9394-5545d1ccbeea",
   "metadata": {
    "id": "6d5a478b-571c-45e8-9394-5545d1ccbeea"
   },
   "source": [
    "--------------------------------------------------------------------------------------------------------------------------"
   ]
  },
  {
   "cell_type": "code",
   "execution_count": null,
   "id": "c1f32c17-1a13-406a-91b4-0e12dc918c9d",
   "metadata": {
    "id": "c1f32c17-1a13-406a-91b4-0e12dc918c9d",
    "outputId": "99cb7bbf-3ebd-48a3-cf60-844b8dfda158"
   },
   "outputs": [
    {
     "data": {
      "text/html": [
       "<div>\n",
       "<style scoped>\n",
       "    .dataframe tbody tr th:only-of-type {\n",
       "        vertical-align: middle;\n",
       "    }\n",
       "\n",
       "    .dataframe tbody tr th {\n",
       "        vertical-align: top;\n",
       "    }\n",
       "\n",
       "    .dataframe thead th {\n",
       "        text-align: right;\n",
       "    }\n",
       "</style>\n",
       "<table border=\"1\" class=\"dataframe\">\n",
       "  <thead>\n",
       "    <tr style=\"text-align: right;\">\n",
       "      <th></th>\n",
       "      <th>distance</th>\n",
       "      <th>intensity</th>\n",
       "      <th>angle</th>\n",
       "      <th>Row</th>\n",
       "      <th>Pitch</th>\n",
       "      <th>Yaw</th>\n",
       "    </tr>\n",
       "    <tr>\n",
       "      <th>Angulo Esperado</th>\n",
       "      <th></th>\n",
       "      <th></th>\n",
       "      <th></th>\n",
       "      <th></th>\n",
       "      <th></th>\n",
       "      <th></th>\n",
       "    </tr>\n",
       "  </thead>\n",
       "  <tbody>\n",
       "    <tr>\n",
       "      <th>-63.00</th>\n",
       "      <td>51843</td>\n",
       "      <td>51843</td>\n",
       "      <td>51843</td>\n",
       "      <td>51843</td>\n",
       "      <td>51843</td>\n",
       "      <td>51843</td>\n",
       "    </tr>\n",
       "    <tr>\n",
       "      <th>-56.70</th>\n",
       "      <td>8632</td>\n",
       "      <td>8632</td>\n",
       "      <td>8632</td>\n",
       "      <td>8632</td>\n",
       "      <td>8632</td>\n",
       "      <td>8632</td>\n",
       "    </tr>\n",
       "    <tr>\n",
       "      <th>-56.37</th>\n",
       "      <td>8671</td>\n",
       "      <td>8671</td>\n",
       "      <td>8671</td>\n",
       "      <td>8671</td>\n",
       "      <td>8671</td>\n",
       "      <td>8671</td>\n",
       "    </tr>\n",
       "    <tr>\n",
       "      <th>-55.59</th>\n",
       "      <td>8663</td>\n",
       "      <td>8663</td>\n",
       "      <td>8663</td>\n",
       "      <td>8663</td>\n",
       "      <td>8663</td>\n",
       "      <td>8663</td>\n",
       "    </tr>\n",
       "    <tr>\n",
       "      <th>-54.00</th>\n",
       "      <td>6493</td>\n",
       "      <td>6493</td>\n",
       "      <td>6493</td>\n",
       "      <td>6493</td>\n",
       "      <td>6493</td>\n",
       "      <td>6493</td>\n",
       "    </tr>\n",
       "    <tr>\n",
       "      <th>...</th>\n",
       "      <td>...</td>\n",
       "      <td>...</td>\n",
       "      <td>...</td>\n",
       "      <td>...</td>\n",
       "      <td>...</td>\n",
       "      <td>...</td>\n",
       "    </tr>\n",
       "    <tr>\n",
       "      <th>50.40</th>\n",
       "      <td>29959</td>\n",
       "      <td>29959</td>\n",
       "      <td>29959</td>\n",
       "      <td>29959</td>\n",
       "      <td>29959</td>\n",
       "      <td>29959</td>\n",
       "    </tr>\n",
       "    <tr>\n",
       "      <th>54.00</th>\n",
       "      <td>8690</td>\n",
       "      <td>8690</td>\n",
       "      <td>8690</td>\n",
       "      <td>8690</td>\n",
       "      <td>8690</td>\n",
       "      <td>8690</td>\n",
       "    </tr>\n",
       "    <tr>\n",
       "      <th>55.59</th>\n",
       "      <td>6531</td>\n",
       "      <td>6531</td>\n",
       "      <td>6531</td>\n",
       "      <td>6531</td>\n",
       "      <td>6531</td>\n",
       "      <td>6531</td>\n",
       "    </tr>\n",
       "    <tr>\n",
       "      <th>56.37</th>\n",
       "      <td>8694</td>\n",
       "      <td>8694</td>\n",
       "      <td>8694</td>\n",
       "      <td>8694</td>\n",
       "      <td>8694</td>\n",
       "      <td>8694</td>\n",
       "    </tr>\n",
       "    <tr>\n",
       "      <th>56.70</th>\n",
       "      <td>8641</td>\n",
       "      <td>8641</td>\n",
       "      <td>8641</td>\n",
       "      <td>8641</td>\n",
       "      <td>8641</td>\n",
       "      <td>8641</td>\n",
       "    </tr>\n",
       "  </tbody>\n",
       "</table>\n",
       "<p>66 rows × 6 columns</p>\n",
       "</div>"
      ],
      "text/plain": [
       "                 distance  intensity  angle    Row  Pitch    Yaw\n",
       "Angulo Esperado                                                 \n",
       "-63.00              51843      51843  51843  51843  51843  51843\n",
       "-56.70               8632       8632   8632   8632   8632   8632\n",
       "-56.37               8671       8671   8671   8671   8671   8671\n",
       "-55.59               8663       8663   8663   8663   8663   8663\n",
       "-54.00               6493       6493   6493   6493   6493   6493\n",
       "...                   ...        ...    ...    ...    ...    ...\n",
       " 50.40              29959      29959  29959  29959  29959  29959\n",
       " 54.00               8690       8690   8690   8690   8690   8690\n",
       " 55.59               6531       6531   6531   6531   6531   6531\n",
       " 56.37               8694       8694   8694   8694   8694   8694\n",
       " 56.70               8641       8641   8641   8641   8641   8641\n",
       "\n",
       "[66 rows x 6 columns]"
      ]
     },
     "execution_count": 13,
     "metadata": {},
     "output_type": "execute_result"
    }
   ],
   "source": [
    "df_pontos.groupby('Angulo Esperado').count()"
   ]
  },
  {
   "cell_type": "markdown",
   "id": "d9e75ff5-b486-46dc-ac4d-1698444624fb",
   "metadata": {
    "id": "d9e75ff5-b486-46dc-ac4d-1698444624fb"
   },
   "source": [
    "66 planos de corte registrados"
   ]
  },
  {
   "cell_type": "markdown",
   "id": "4a6d54ba-098e-402a-ad7e-bd46f7cd65cb",
   "metadata": {
    "id": "4a6d54ba-098e-402a-ad7e-bd46f7cd65cb"
   },
   "source": [
    "--------------------------------------------------------------------------------------------------------------------------"
   ]
  },
  {
   "cell_type": "code",
   "execution_count": null,
   "id": "5d8563f0-c60b-4c9f-968b-a0c3d5d73520",
   "metadata": {
    "id": "5d8563f0-c60b-4c9f-968b-a0c3d5d73520",
    "outputId": "057cf1db-6df6-4e0b-f477-c7ac3a82564d"
   },
   "outputs": [
    {
     "name": "stdout",
     "output_type": "stream",
     "text": [
      "0.0001747074581246 6.28301114077353\n"
     ]
    }
   ],
   "source": [
    "print(df_pontos['angle'].min(), df_pontos['angle'].max())"
   ]
  },
  {
   "cell_type": "markdown",
   "id": "b39bc4e5-6470-4475-bfc9-125c17f76f00",
   "metadata": {
    "id": "b39bc4e5-6470-4475-bfc9-125c17f76f00"
   },
   "source": [
    "angle é o ângulo de varredura do lidar, e varia de 0 a 2 pi"
   ]
  },
  {
   "cell_type": "markdown",
   "id": "e46a1d9f-4c4f-4d08-b7f0-1a529d3058d6",
   "metadata": {
    "id": "e46a1d9f-4c4f-4d08-b7f0-1a529d3058d6"
   },
   "source": [
    "--------------------------------------------------------------------------------------------------------------------------"
   ]
  },
  {
   "cell_type": "markdown",
   "id": "bcea6147-31f8-494a-9207-343942d76aec",
   "metadata": {
    "id": "bcea6147-31f8-494a-9207-343942d76aec"
   },
   "source": [
    "Row, Pitch e Yaw estão em graus, indo de 0 a 360"
   ]
  },
  {
   "cell_type": "code",
   "execution_count": null,
   "id": "16f5f899-24f5-44d8-a746-4084515566b9",
   "metadata": {
    "id": "16f5f899-24f5-44d8-a746-4084515566b9",
    "outputId": "5a7c5214-14db-4444-cefe-b6a7b6858511"
   },
   "outputs": [
    {
     "name": "stdout",
     "output_type": "stream",
     "text": [
      "-51.2127685546875 59.4305419921875\n"
     ]
    }
   ],
   "source": [
    "print(df_pontos['Row'].min(), df_pontos['Row'].max())"
   ]
  },
  {
   "cell_type": "markdown",
   "id": "54ffd6d0-406f-40b8-84ba-df9cce3a5f37",
   "metadata": {
    "id": "54ffd6d0-406f-40b8-84ba-df9cce3a5f37"
   },
   "source": [
    "Row é nossa 'inclinação frontal', a que estamos realizando com o lidar"
   ]
  },
  {
   "cell_type": "markdown",
   "id": "a0d87ca9-74ca-462d-b7c0-7bf9cc7789ff",
   "metadata": {
    "id": "a0d87ca9-74ca-462d-b7c0-7bf9cc7789ff"
   },
   "source": [
    "Note que apesar de ter colocado para variar de -63 a 63 graus, esses valores nunca foram realmente atingidos"
   ]
  },
  {
   "cell_type": "markdown",
   "id": "62c84f1c-7ed7-4e61-a628-95dd96cb7f54",
   "metadata": {
    "id": "62c84f1c-7ed7-4e61-a628-95dd96cb7f54"
   },
   "source": [
    "--------------------------------------------------------------------------------------------------------------------------"
   ]
  },
  {
   "cell_type": "code",
   "execution_count": null,
   "id": "17369e63-68a1-4f67-8ff2-ba5fd0565edd",
   "metadata": {
    "id": "17369e63-68a1-4f67-8ff2-ba5fd0565edd",
    "outputId": "90cf641a-77ec-4adb-a81a-ce44a167d2aa"
   },
   "outputs": [
    {
     "name": "stdout",
     "output_type": "stream",
     "text": [
      "1.1590576171875 3.9276123046875\n"
     ]
    }
   ],
   "source": [
    "print(df_pontos['Pitch'].min(), df_pontos['Pitch'].max())"
   ]
  },
  {
   "cell_type": "markdown",
   "id": "987a36e0-ec7f-4bd7-97c8-3c98e77b1205",
   "metadata": {
    "id": "987a36e0-ec7f-4bd7-97c8-3c98e77b1205"
   },
   "source": [
    "Pitch é a 'inclinação lateral'. As variações pequenas mostradas podem ter origem na vibração da base"
   ]
  },
  {
   "cell_type": "markdown",
   "id": "a3c2de22-9e1b-4321-8548-e57b23d081b9",
   "metadata": {
    "id": "a3c2de22-9e1b-4321-8548-e57b23d081b9"
   },
   "source": [
    "--------------------------------------------------------------------------------------------------------------------------"
   ]
  },
  {
   "cell_type": "code",
   "execution_count": null,
   "id": "e9de2ce3-d274-46c3-955c-8ae323812ed0",
   "metadata": {
    "id": "e9de2ce3-d274-46c3-955c-8ae323812ed0",
    "outputId": "b3d866ed-7b2f-48ac-d194-d4db394b5711"
   },
   "outputs": [
    {
     "name": "stdout",
     "output_type": "stream",
     "text": [
      "-90.692138671875 -69.818115234375\n"
     ]
    }
   ],
   "source": [
    "print(df_pontos['Yaw'].min(), df_pontos['Yaw'].max())"
   ]
  },
  {
   "cell_type": "markdown",
   "id": "d318a54c-9d3a-4efc-927b-f447a6206acc",
   "metadata": {
    "id": "d318a54c-9d3a-4efc-927b-f447a6206acc"
   },
   "source": [
    "Yaw é a rotação da base. As variações demonstradas não fazem sentido no dado exemplo, já que nenhuma rotação foi feita e colocamos peso na base para segurar o movimento brusco dos servos"
   ]
  },
  {
   "cell_type": "markdown",
   "id": "05ea7f07-3d00-495f-a8b5-5c1401d7d548",
   "metadata": {
    "id": "05ea7f07-3d00-495f-a8b5-5c1401d7d548"
   },
   "source": [
    "--------------------------------------------------------------------------------------------------------------------------"
   ]
  },
  {
   "cell_type": "markdown",
   "id": "946662e6-c680-4a47-9760-ec962b3b79cb",
   "metadata": {
    "id": "946662e6-c680-4a47-9760-ec962b3b79cb"
   },
   "source": [
    "De certa maneira,vamos sempre respeitar Row e Pitch, mas testar respeitar o Yaw ou não."
   ]
  },
  {
   "cell_type": "markdown",
   "id": "77bbc4fe-04fc-4d06-8bd3-1a43e7ba4acc",
   "metadata": {
    "id": "77bbc4fe-04fc-4d06-8bd3-1a43e7ba4acc"
   },
   "source": [
    "Vale lembrar que o sensor está no plano do lidar, a 15.5 cm do eixo de inclinação."
   ]
  },
  {
   "cell_type": "markdown",
   "id": "45c8779b-25bc-4419-a905-c43f75a397c1",
   "metadata": {
    "id": "45c8779b-25bc-4419-a905-c43f75a397c1"
   },
   "source": [
    "--------------------------------------------------------------------------------------------------------------------------"
   ]
  },
  {
   "cell_type": "markdown",
   "id": "6d09c437-60c4-4ed0-a622-d75699d4726a",
   "metadata": {
    "id": "6d09c437-60c4-4ed0-a622-d75699d4726a"
   },
   "source": [
    "Criando Nossa Nuvem de Pontos:\n",
    "\n",
    "Iremos criar três colunas, uma X, uma Y e uma Z\n",
    "\n",
    "Elas vão ser o resultado da transformação por matrizes partindo da distância, Row, Pitch e Yaw e vão representar a posição do ponto no espaço 3d."
   ]
  },
  {
   "cell_type": "markdown",
   "id": "f7a917b0-904c-486c-b29b-a73b8bf5a9f3",
   "metadata": {
    "id": "f7a917b0-904c-486c-b29b-a73b8bf5a9f3"
   },
   "source": [
    "****************************************************************************************************************************\n",
    "Abaixo deixarei o exemplo de como estava a transformação anterior, a nossa tarefa é conseguir a transformação correta para os pontos. O ambiente escaneado é uma sala + cozinha (aberta).\n",
    "****************************************************************************************************************************"
   ]
  },
  {
   "cell_type": "code",
   "execution_count": null,
   "id": "90fdeb65-09e7-419e-892d-229a0786b144",
   "metadata": {
    "id": "90fdeb65-09e7-419e-892d-229a0786b144"
   },
   "outputs": [],
   "source": [
    "dist_sensor_eixo = 0.155 #lidar to tilt axis distance\n",
    "z_ajuste = 1\n",
    "\n",
    "def transform_row(row):\n",
    "\n",
    "    angle_rad = row['angle']\n",
    "\n",
    "    Row_rad   = radians(row['Row'])\n",
    "    Pitch_rad = radians(row['Pitch'])\n",
    "    Yaw_rad   = radians(row['Yaw'])\n",
    "\n",
    "    Rx = np.array([[1, 0, 0],\n",
    "                   [0, cos(Row_rad), -sin(Row_rad)],\n",
    "                   [0, sin(Row_rad), cos(Row_rad)]])\n",
    "\n",
    "    Ry = np.array([[cos(Pitch_rad), 0, sin(Pitch_rad)],\n",
    "                   [0, 1, 0],\n",
    "                   [-sin(Pitch_rad), 0, cos(Pitch_rad)]])\n",
    "\n",
    "    Rz = np.array([[cos(Yaw_rad), sin(Yaw_rad), 0],\n",
    "                   [-sin(Yaw_rad), cos(Yaw_rad), 0],\n",
    "                   [0, 0, 1]])\n",
    "\n",
    "    R_total = Rz.dot(Ry.dot(Rx))\n",
    "\n",
    "    distance = row['distance']\n",
    "    x_local = distance * sin(angle_rad)\n",
    "    y_local = distance * cos(angle_rad)\n",
    "    z_local = 0.0  # LiDAR 2D\n",
    "\n",
    "    Pponto = np.array([[x_local],\n",
    "                        [y_local],\n",
    "                        [z_local]])\n",
    "\n",
    "    PLidar = np.array([[0],\n",
    "                       [0],\n",
    "                       [dist_sensor_eixo]])\n",
    "\n",
    "    Pfponto = R_total.dot(Pponto  + PLidar)\n",
    "\n",
    "    Pfponto[2, 0] += z_ajuste\n",
    "\n",
    "    return pd.Series({\n",
    "        'x': Pfponto[0, 0],\n",
    "        'y': Pfponto[1, 0],\n",
    "        'z': Pfponto[2, 0]\n",
    "    })"
   ]
  },
  {
   "cell_type": "code",
   "execution_count": null,
   "id": "933d9340-529a-4893-89d0-9c35f84f21a3",
   "metadata": {
    "id": "933d9340-529a-4893-89d0-9c35f84f21a3"
   },
   "outputs": [],
   "source": [
    "transformed = df_pontos.apply(transform_row, axis=1)\n",
    "df_transformed = pd.concat([df_pontos, transformed], axis=1)"
   ]
  },
  {
   "cell_type": "code",
   "execution_count": null,
   "id": "e4322193-817a-4944-865f-f46bb02febe0",
   "metadata": {
    "id": "e4322193-817a-4944-865f-f46bb02febe0",
    "outputId": "a3575ac9-c9f6-489e-9bff-5bd052b302c0"
   },
   "outputs": [
    {
     "data": {
      "text/html": [
       "<div>\n",
       "<style scoped>\n",
       "    .dataframe tbody tr th:only-of-type {\n",
       "        vertical-align: middle;\n",
       "    }\n",
       "\n",
       "    .dataframe tbody tr th {\n",
       "        vertical-align: top;\n",
       "    }\n",
       "\n",
       "    .dataframe thead th {\n",
       "        text-align: right;\n",
       "    }\n",
       "</style>\n",
       "<table border=\"1\" class=\"dataframe\">\n",
       "  <thead>\n",
       "    <tr style=\"text-align: right;\">\n",
       "      <th></th>\n",
       "      <th>distance</th>\n",
       "      <th>intensity</th>\n",
       "      <th>angle</th>\n",
       "      <th>Row</th>\n",
       "      <th>Pitch</th>\n",
       "      <th>Yaw</th>\n",
       "      <th>Angulo Esperado</th>\n",
       "      <th>x</th>\n",
       "      <th>y</th>\n",
       "      <th>z</th>\n",
       "    </tr>\n",
       "  </thead>\n",
       "  <tbody>\n",
       "    <tr>\n",
       "      <th>0</th>\n",
       "      <td>1.195</td>\n",
       "      <td>0.898039</td>\n",
       "      <td>0.000872</td>\n",
       "      <td>-51.212769</td>\n",
       "      <td>1.159058</td>\n",
       "      <td>-89.489136</td>\n",
       "      <td>-63.0</td>\n",
       "      <td>-0.110797</td>\n",
       "      <td>1.197738</td>\n",
       "      <td>2.072092</td>\n",
       "    </tr>\n",
       "    <tr>\n",
       "      <th>1</th>\n",
       "      <td>1.034</td>\n",
       "      <td>0.733333</td>\n",
       "      <td>0.001222</td>\n",
       "      <td>-51.212769</td>\n",
       "      <td>1.159058</td>\n",
       "      <td>-89.489136</td>\n",
       "      <td>-63.0</td>\n",
       "      <td>-0.112371</td>\n",
       "      <td>1.036775</td>\n",
       "      <td>2.075176</td>\n",
       "    </tr>\n",
       "    <tr>\n",
       "      <th>2</th>\n",
       "      <td>1.194</td>\n",
       "      <td>0.905882</td>\n",
       "      <td>0.003665</td>\n",
       "      <td>-51.212769</td>\n",
       "      <td>1.159058</td>\n",
       "      <td>-89.489136</td>\n",
       "      <td>-63.0</td>\n",
       "      <td>-0.112895</td>\n",
       "      <td>1.196697</td>\n",
       "      <td>2.069514</td>\n",
       "    </tr>\n",
       "    <tr>\n",
       "      <th>3</th>\n",
       "      <td>1.034</td>\n",
       "      <td>0.745098</td>\n",
       "      <td>0.005411</td>\n",
       "      <td>-51.212769</td>\n",
       "      <td>1.159058</td>\n",
       "      <td>-89.489136</td>\n",
       "      <td>-63.0</td>\n",
       "      <td>-0.115085</td>\n",
       "      <td>1.036716</td>\n",
       "      <td>2.071802</td>\n",
       "    </tr>\n",
       "    <tr>\n",
       "      <th>4</th>\n",
       "      <td>1.194</td>\n",
       "      <td>0.909804</td>\n",
       "      <td>0.006458</td>\n",
       "      <td>-51.212769</td>\n",
       "      <td>1.159058</td>\n",
       "      <td>-89.489136</td>\n",
       "      <td>-63.0</td>\n",
       "      <td>-0.114984</td>\n",
       "      <td>1.196646</td>\n",
       "      <td>2.066916</td>\n",
       "    </tr>\n",
       "  </tbody>\n",
       "</table>\n",
       "</div>"
      ],
      "text/plain": [
       "   distance  intensity     angle        Row     Pitch        Yaw  \\\n",
       "0     1.195   0.898039  0.000872 -51.212769  1.159058 -89.489136   \n",
       "1     1.034   0.733333  0.001222 -51.212769  1.159058 -89.489136   \n",
       "2     1.194   0.905882  0.003665 -51.212769  1.159058 -89.489136   \n",
       "3     1.034   0.745098  0.005411 -51.212769  1.159058 -89.489136   \n",
       "4     1.194   0.909804  0.006458 -51.212769  1.159058 -89.489136   \n",
       "\n",
       "   Angulo Esperado         x         y         z  \n",
       "0            -63.0 -0.110797  1.197738  2.072092  \n",
       "1            -63.0 -0.112371  1.036775  2.075176  \n",
       "2            -63.0 -0.112895  1.196697  2.069514  \n",
       "3            -63.0 -0.115085  1.036716  2.071802  \n",
       "4            -63.0 -0.114984  1.196646  2.066916  "
      ]
     },
     "execution_count": 65,
     "metadata": {},
     "output_type": "execute_result"
    }
   ],
   "source": [
    "df_transformed.head()"
   ]
  },
  {
   "cell_type": "code",
   "execution_count": null,
   "id": "28b2dd7a-d5e4-4246-9fd2-ac071c64e74a",
   "metadata": {
    "id": "28b2dd7a-d5e4-4246-9fd2-ac071c64e74a",
    "outputId": "5df85e0f-bd90-4943-8ccd-56a7d2a43c18"
   },
   "outputs": [],
   "source": [
    "def visualize_3d(df):\n",
    "    df = df\n",
    "\n",
    "    fig = plt.figure(figsize=(10, 8))\n",
    "    ax = fig.add_subplot(111, projection='3d')\n",
    "\n",
    "    scatter = ax.scatter(df['x'], df['y'], df['z'], c=df['intensity'], cmap='viridis', marker='o')\n",
    "\n",
    "    ax.set_xlabel('X')\n",
    "    ax.set_ylabel('Y')\n",
    "    ax.set_zlabel('Z')\n",
    "\n",
    "    fig.colorbar(scatter, ax=ax, label='Intensity')\n",
    "\n",
    "    plt.title(\"Visualização 3D de df_transformed\")\n",
    "    plt.show()\n",
    "\n",
    "if __name__ == '__main__':\n",
    "    visualize_3d(df_transformed)"
   ]
  },
  {
   "cell_type": "code",
   "execution_count": null,
   "id": "fd8f29c9-9a8b-4e3f-ada0-376ed0201f7b",
   "metadata": {
    "id": "fd8f29c9-9a8b-4e3f-ada0-376ed0201f7b"
   },
   "outputs": [],
   "source": [
    "def visualize_3d_open3d(df):\n",
    "    points = df[['x', 'y', 'z']].to_numpy()\n",
    "    intensities = df['intensity'].to_numpy()\n",
    "\n",
    "    pcd = o3d.geometry.PointCloud()\n",
    "    pcd.points = o3d.utility.Vector3dVector(points)\n",
    "\n",
    "    norm_intensities = (intensities - intensities.min()) / (intensities.ptp() + 1e-8)\n",
    "    colors = np.repeat(norm_intensities.reshape(-1, 1), 3, axis=1)\n",
    "    pcd.colors = o3d.utility.Vector3dVector(colors)\n",
    "\n",
    "    o3d.visualization.draw_geometries([pcd],\n",
    "                                      window_name=\"Visualização 3D com Open3D\",\n",
    "                                      width=800,\n",
    "                                      height=600,\n",
    "                                      left=50,\n",
    "                                      top=50,\n",
    "                                      point_show_normal=False)\n",
    "\n",
    "if __name__ == \"__main__\":\n",
    "    visualize_3d_open3d(df_transformed)"
   ]
  }
 ],
 "metadata": {
  "colab": {
   "provenance": []
  },
  "kernelspec": {
   "display_name": "Python [conda env:base] *",
   "language": "python",
   "name": "conda-base-py"
  },
  "language_info": {
   "codemirror_mode": {
    "name": "ipython",
    "version": 3
   },
   "file_extension": ".py",
   "mimetype": "text/x-python",
   "name": "python",
   "nbconvert_exporter": "python",
   "pygments_lexer": "ipython3",
   "version": "3.12.7"
  }
 },
 "nbformat": 4,
 "nbformat_minor": 5
}
